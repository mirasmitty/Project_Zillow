{
 "cells": [
  {
   "cell_type": "markdown",
   "metadata": {},
   "source": [
    "# Instructor Do: Random Forests"
   ]
  },
  {
   "cell_type": "code",
<<<<<<< HEAD
   "execution_count": 16,
=======
   "execution_count": 1,
>>>>>>> 937aa763dab2c864ea46388026e42a34ddbe95a7
   "metadata": {},
   "outputs": [],
   "source": [
    "# Initial imports\n",
    "import pandas as pd\n",
<<<<<<< HEAD
    "import numpy as np\n",
    "from sklearn.preprocessing import StandardScaler\n",
    "from sklearn.model_selection import train_test_split\n",
    "from sklearn.ensemble import RandomForestRegressor\n",
    "\n",
=======
    "from sklearn.preprocessing import StandardScaler\n",
    "from sklearn.model_selection import train_test_split\n",
    "from sklearn.ensemble import RandomForestRegressor\n",
    "from sklearn.metrics import confusion_matrix, accuracy_score, classification_report\n",
>>>>>>> 937aa763dab2c864ea46388026e42a34ddbe95a7
    "%matplotlib inline\n"
   ]
  },
  {
   "cell_type": "markdown",
   "metadata": {},
   "source": [
    "## Loading and Preprocessing Loans Encoded Data"
   ]
  },
  {
   "cell_type": "code",
<<<<<<< HEAD
   "execution_count": 3,
=======
   "execution_count": 9,
>>>>>>> 937aa763dab2c864ea46388026e42a34ddbe95a7
   "metadata": {},
   "outputs": [
    {
     "data": {
      "text/html": [
       "<div>\n",
       "<style scoped>\n",
       "    .dataframe tbody tr th:only-of-type {\n",
       "        vertical-align: middle;\n",
       "    }\n",
       "\n",
       "    .dataframe tbody tr th {\n",
       "        vertical-align: top;\n",
       "    }\n",
       "\n",
       "    .dataframe thead th {\n",
       "        text-align: right;\n",
       "    }\n",
       "</style>\n",
       "<table border=\"1\" class=\"dataframe\">\n",
       "  <thead>\n",
       "    <tr style=\"text-align: right;\">\n",
       "      <th></th>\n",
       "      <th>Week of pending</th>\n",
       "      <th>Mean days listing to pending</th>\n",
       "      <th>Mean price reduction percentage</th>\n",
       "    </tr>\n",
       "  </thead>\n",
       "  <tbody>\n",
       "    <tr>\n",
       "      <th>0</th>\n",
       "      <td>1517011200000000000</td>\n",
       "      <td>49</td>\n",
       "      <td>0.045619</td>\n",
       "    </tr>\n",
       "    <tr>\n",
       "      <th>1</th>\n",
       "      <td>1517616000000000000</td>\n",
       "      <td>48</td>\n",
       "      <td>0.046532</td>\n",
       "    </tr>\n",
       "    <tr>\n",
       "      <th>2</th>\n",
       "      <td>1518220800000000000</td>\n",
       "      <td>47</td>\n",
       "      <td>0.048536</td>\n",
       "    </tr>\n",
       "    <tr>\n",
       "      <th>3</th>\n",
       "      <td>1518825600000000000</td>\n",
       "      <td>46</td>\n",
       "      <td>0.049169</td>\n",
       "    </tr>\n",
       "    <tr>\n",
       "      <th>4</th>\n",
       "      <td>1519430400000000000</td>\n",
       "      <td>43</td>\n",
       "      <td>0.048168</td>\n",
       "    </tr>\n",
       "  </tbody>\n",
       "</table>\n",
       "</div>"
      ],
      "text/plain": [
       "       Week of pending  Mean days listing to pending  \\\n",
       "0  1517011200000000000                            49   \n",
       "1  1517616000000000000                            48   \n",
       "2  1518220800000000000                            47   \n",
       "3  1518825600000000000                            46   \n",
       "4  1519430400000000000                            43   \n",
       "\n",
       "   Mean price reduction percentage  \n",
       "0                         0.045619  \n",
       "1                         0.046532  \n",
       "2                         0.048536  \n",
       "3                         0.049169  \n",
       "4                         0.048168  "
      ]
     },
<<<<<<< HEAD
     "execution_count": 3,
=======
     "execution_count": 9,
>>>>>>> 937aa763dab2c864ea46388026e42a34ddbe95a7
     "metadata": {},
     "output_type": "execute_result"
    }
   ],
   "source": [
    "# Loading data\n",
<<<<<<< HEAD
    "df = pd.read_csv(\"https://raw.githubusercontent.com/mirasmitty/Project_Zillow/main/Resources/Zillow_data_Detroit.csv\")\n",
=======
    "df = pd.read_csv(\"Resources\\Zillow_data_Detroit.csv\")\n",
>>>>>>> 937aa763dab2c864ea46388026e42a34ddbe95a7
    "df['Week of pending'] = pd.to_datetime(df['Week of pending'])\n",
    "df['Week of pending'] = df['Week of pending'].values.astype(\"int64\")\n",
    "df.head()"
   ]
  },
  {
   "cell_type": "code",
<<<<<<< HEAD
   "execution_count": 4,
=======
   "execution_count": 10,
>>>>>>> 937aa763dab2c864ea46388026e42a34ddbe95a7
   "metadata": {},
   "outputs": [
    {
     "data": {
      "text/plain": [
       "Week of pending                      int64\n",
       "Mean days listing to pending         int64\n",
       "Mean price reduction percentage    float64\n",
       "dtype: object"
      ]
     },
<<<<<<< HEAD
     "execution_count": 4,
=======
     "execution_count": 10,
>>>>>>> 937aa763dab2c864ea46388026e42a34ddbe95a7
     "metadata": {},
     "output_type": "execute_result"
    }
   ],
   "source": [
    "df.dtypes"
   ]
  },
  {
   "cell_type": "code",
<<<<<<< HEAD
   "execution_count": 5,
=======
   "execution_count": 13,
>>>>>>> 937aa763dab2c864ea46388026e42a34ddbe95a7
   "metadata": {},
   "outputs": [
    {
     "data": {
      "text/plain": [
       "(315, 3)"
      ]
     },
<<<<<<< HEAD
     "execution_count": 5,
=======
     "execution_count": 13,
>>>>>>> 937aa763dab2c864ea46388026e42a34ddbe95a7
     "metadata": {},
     "output_type": "execute_result"
    }
   ],
   "source": [
    "df.shape"
   ]
  },
  {
   "cell_type": "code",
<<<<<<< HEAD
   "execution_count": 6,
=======
   "execution_count": 16,
>>>>>>> 937aa763dab2c864ea46388026e42a34ddbe95a7
   "metadata": {},
   "outputs": [
    {
     "data": {
      "text/plain": [
       "(313, 3)"
      ]
     },
<<<<<<< HEAD
     "execution_count": 6,
=======
     "execution_count": 16,
>>>>>>> 937aa763dab2c864ea46388026e42a34ddbe95a7
     "metadata": {},
     "output_type": "execute_result"
    }
   ],
   "source": [
    "df = df.dropna()\n",
    "df.shape"
   ]
  },
  {
   "cell_type": "code",
<<<<<<< HEAD
   "execution_count": 7,
=======
   "execution_count": 18,
>>>>>>> 937aa763dab2c864ea46388026e42a34ddbe95a7
   "metadata": {},
   "outputs": [
    {
     "data": {
      "text/html": [
       "<div>\n",
       "<style scoped>\n",
       "    .dataframe tbody tr th:only-of-type {\n",
       "        vertical-align: middle;\n",
       "    }\n",
       "\n",
       "    .dataframe tbody tr th {\n",
       "        vertical-align: top;\n",
       "    }\n",
       "\n",
       "    .dataframe thead th {\n",
       "        text-align: right;\n",
       "    }\n",
       "</style>\n",
       "<table border=\"1\" class=\"dataframe\">\n",
       "  <thead>\n",
       "    <tr style=\"text-align: right;\">\n",
       "      <th></th>\n",
       "      <th>Week of pending</th>\n",
       "      <th>Mean days listing to pending</th>\n",
       "    </tr>\n",
       "  </thead>\n",
       "  <tbody>\n",
       "    <tr>\n",
       "      <th>0</th>\n",
       "      <td>1517011200000000000</td>\n",
       "      <td>49</td>\n",
       "    </tr>\n",
       "    <tr>\n",
       "      <th>1</th>\n",
       "      <td>1517616000000000000</td>\n",
       "      <td>48</td>\n",
       "    </tr>\n",
       "    <tr>\n",
       "      <th>2</th>\n",
       "      <td>1518220800000000000</td>\n",
       "      <td>47</td>\n",
       "    </tr>\n",
       "    <tr>\n",
       "      <th>3</th>\n",
       "      <td>1518825600000000000</td>\n",
       "      <td>46</td>\n",
       "    </tr>\n",
       "    <tr>\n",
       "      <th>4</th>\n",
       "      <td>1519430400000000000</td>\n",
       "      <td>43</td>\n",
       "    </tr>\n",
       "  </tbody>\n",
       "</table>\n",
       "</div>"
      ],
      "text/plain": [
       "       Week of pending  Mean days listing to pending\n",
       "0  1517011200000000000                            49\n",
       "1  1517616000000000000                            48\n",
       "2  1518220800000000000                            47\n",
       "3  1518825600000000000                            46\n",
       "4  1519430400000000000                            43"
      ]
     },
<<<<<<< HEAD
     "execution_count": 7,
=======
     "execution_count": 18,
>>>>>>> 937aa763dab2c864ea46388026e42a34ddbe95a7
     "metadata": {},
     "output_type": "execute_result"
    }
   ],
   "source": [
    "# Define features set\n",
    "x = df.drop(\"Mean price reduction percentage\", axis=1)\n",
    "\n",
    "x.head()"
   ]
  },
  {
   "cell_type": "code",
<<<<<<< HEAD
   "execution_count": 8,
=======
   "execution_count": 19,
>>>>>>> 937aa763dab2c864ea46388026e42a34ddbe95a7
   "metadata": {},
   "outputs": [
    {
     "data": {
      "text/plain": [
       "array([0.04561916, 0.04653246, 0.04853574, 0.04916884, 0.04816789])"
      ]
     },
<<<<<<< HEAD
     "execution_count": 8,
=======
     "execution_count": 19,
>>>>>>> 937aa763dab2c864ea46388026e42a34ddbe95a7
     "metadata": {},
     "output_type": "execute_result"
    }
   ],
   "source": [
    "# Define target vector\n",
    "y = df[\"Mean price reduction percentage\"].ravel()\n",
    "y[:5]"
   ]
  },
  {
   "cell_type": "code",
<<<<<<< HEAD
   "execution_count": 9,
=======
   "execution_count": 20,
>>>>>>> 937aa763dab2c864ea46388026e42a34ddbe95a7
   "metadata": {},
   "outputs": [],
   "source": [
    "# Splitting into Train and Test sets\n",
    "x_train, x_test, y_train, y_test = train_test_split(x, y, random_state=78)"
   ]
  },
  {
   "cell_type": "code",
<<<<<<< HEAD
   "execution_count": 10,
=======
   "execution_count": 21,
>>>>>>> 937aa763dab2c864ea46388026e42a34ddbe95a7
   "metadata": {},
   "outputs": [],
   "source": [
    "# Creating StandardScaler instance\n",
    "scaler = StandardScaler()"
   ]
  },
  {
   "cell_type": "code",
<<<<<<< HEAD
   "execution_count": 11,
=======
   "execution_count": 22,
>>>>>>> 937aa763dab2c864ea46388026e42a34ddbe95a7
   "metadata": {},
   "outputs": [],
   "source": [
    "# Fitting Standard Scaller\n",
    "x_scaler = scaler.fit(x_train)"
   ]
  },
  {
   "cell_type": "code",
<<<<<<< HEAD
   "execution_count": 12,
=======
   "execution_count": 23,
>>>>>>> 937aa763dab2c864ea46388026e42a34ddbe95a7
   "metadata": {},
   "outputs": [],
   "source": [
    "# Scaling data\n",
    "x_train_scaled = x_scaler.transform(x_train)\n",
    "x_test_scaled = x_scaler.transform(x_test)"
   ]
  },
  {
   "cell_type": "markdown",
   "metadata": {},
   "source": [
    "## Fitting the Random Forest Model"
   ]
  },
  {
   "cell_type": "code",
<<<<<<< HEAD
   "execution_count": 13,
=======
   "execution_count": 24,
>>>>>>> 937aa763dab2c864ea46388026e42a34ddbe95a7
   "metadata": {},
   "outputs": [],
   "source": [
    "# Create a random forest classifier\n",
    "rf_model = RandomForestRegressor(n_estimators=500, random_state=78)"
   ]
  },
  {
   "cell_type": "code",
<<<<<<< HEAD
   "execution_count": 14,
=======
   "execution_count": 25,
>>>>>>> 937aa763dab2c864ea46388026e42a34ddbe95a7
   "metadata": {},
   "outputs": [],
   "source": [
    "# Fitting the model\n",
    "rf_model = rf_model.fit(x_train_scaled, y_train)"
   ]
  },
  {
   "cell_type": "markdown",
   "metadata": {},
   "source": [
    "## Making Predictions Using the Random Forest Model"
   ]
  },
  {
   "cell_type": "code",
   "execution_count": 15,
   "metadata": {},
   "outputs": [],
   "source": [
    "# Making predictions using the testing data\n",
    "predictions = rf_model.predict(x_test_scaled)"
   ]
  },
  {
   "cell_type": "code",
   "execution_count": 22,
   "metadata": {},
   "outputs": [
    {
     "data": {
      "text/plain": [
       "(79,)"
      ]
     },
     "execution_count": 22,
     "metadata": {},
     "output_type": "execute_result"
    }
   ],
   "source": [
    "predictions.shape"
   ]
  },
  {
   "cell_type": "markdown",
   "metadata": {},
   "source": [
    "## Model Evaluation"
   ]
  },
  {
   "cell_type": "code",
   "execution_count": 17,
   "metadata": {},
   "outputs": [],
   "source": [
    "from sklearn.metrics import mean_absolute_error,r2_score, mean_squared_error\n"
   ]
  },
  {
   "cell_type": "code",
   "execution_count": 24,
   "metadata": {},
   "outputs": [
    {
     "name": "stdout",
     "output_type": "stream",
     "text": [
      "The score is -0.0119782812235536.\n",
      "The r2 is 0.9631252957181322.\n",
      "The mean squared error is 7.693645740676662e-07.\n",
      "The root mean squared error is 0.0008771342964835352.\n",
      "The standard deviation is 0.004567744669218188.\n",
      "The error is 0.0006462160741772377 \n"
     ]
    },
    {
     "name": "stderr",
     "output_type": "stream",
     "text": [
      "c:\\Users\\hveng\\anaconda3\\envs\\dev\\lib\\site-packages\\sklearn\\base.py:432: UserWarning: X has feature names, but RandomForestRegressor was fitted without feature names\n",
      "  warnings.warn(\n"
     ]
    }
   ],
   "source": [
    "# Compute the metrics for the Random forest regression model\n",
    "score = rf_model.score(x_test, y_test,sample_weight=None)\n",
    "r2 = r2_score(y_test,predictions)\n",
    "mse = mean_squared_error(y_test, predictions)\n",
    "rmse = np.sqrt(mse)\n",
    "std = np.std(y_test)\n",
    "error = mean_absolute_error(y_test, predictions)\n",
    "\n",
    "# Print relevant metrics.\n",
    "print(f\"The score is {score}.\")\n",
    "print(f\"The r2 is {r2}.\")\n",
    "print(f\"The mean squared error is {mse}.\")\n",
    "print(f\"The root mean squared error is {rmse}.\")\n",
    "print(f\"The standard deviation is {std}.\")\n",
    "print(f\"The error is {error} \")"
   ]
  },
  {
   "cell_type": "markdown",
   "metadata": {},
   "source": [
    "## Feature Importance"
   ]
  },
  {
   "cell_type": "code",
   "execution_count": 25,
   "metadata": {},
   "outputs": [
    {
     "data": {
      "text/plain": [
       "[(0.9364761180389953, 'Week of pending'),\n",
       " (0.06352388196100467, 'Mean days listing to pending')]"
      ]
     },
     "execution_count": 25,
     "metadata": {},
     "output_type": "execute_result"
    }
   ],
   "source": [
    "# Random Forests in sklearn will automatically calculate feature importance\n",
    "imprtances = rf_model.feature_importances_\n",
    "# We can sort the features by their importance\n",
    "sorted(zip(rf_model.feature_importances_, x.columns), reverse= True)"
   ]
  },
  {
   "cell_type": "code",
   "execution_count": 26,
   "metadata": {},
   "outputs": [
    {
     "data": {
      "text/plain": [
       "<Axes: title={'center': 'Features Importances'}, ylabel='1'>"
      ]
     },
     "execution_count": 26,
     "metadata": {},
     "output_type": "execute_result"
    },
    {
     "data": {
      "image/png": "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",
      "text/plain": [
       "<Figure size 640x480 with 1 Axes>"
      ]
     },
     "metadata": {},
     "output_type": "display_data"
    }
   ],
   "source": [
    "# Visualize the features by importance\n",
<<<<<<< HEAD
    "importances_df = pd.DataFrame(sorted(zip(rf_model.feature_importances_, x.columns), reverse = True))\n",
=======
    "importances_df = pd.DataFrame(sorted(zip(rf_model.feature_importances_, X.columns), reverse = True))\n",
>>>>>>> 937aa763dab2c864ea46388026e42a34ddbe95a7
    "importances_df.set_index(importances_df[1], inplace = True)\n",
    "importances_df.drop(columns = 1, inplace = True)\n",
    "importances_df.rename(columns = {0: 'Feature Importances'}, inplace = True)\n",
    "importances_sorted = importances_df.sort_values(by = 'Feature Importances')\n",
    "importances_sorted.plot(kind = 'barh', color = 'lightgreen', title = 'Features Importances', legend = False)"
   ]
  },
  {
   "cell_type": "code",
   "execution_count": null,
   "metadata": {},
   "outputs": [],
   "source": []
  }
 ],
 "metadata": {
  "file_extension": ".py",
  "kernelspec": {
   "display_name": "Python 3 (ipykernel)",
   "language": "python",
   "name": "python3"
  },
  "language_info": {
   "codemirror_mode": {
    "name": "ipython",
    "version": 3
   },
   "file_extension": ".py",
   "mimetype": "text/x-python",
   "name": "python",
   "nbconvert_exporter": "python",
   "pygments_lexer": "ipython3",
   "version": "3.11.5"
  },
  "mimetype": "text/x-python",
  "name": "python",
  "npconvert_exporter": "python",
  "pygments_lexer": "ipython3",
  "version": 3
 },
 "nbformat": 4,
 "nbformat_minor": 4
}
