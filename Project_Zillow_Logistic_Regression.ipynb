{
  "nbformat": 4,
  "nbformat_minor": 0,
  "metadata": {
    "colab": {
      "provenance": [],
      "authorship_tag": "ABX9TyOgTN41/vwiaFdHCfNFrCNd",
      "include_colab_link": true
    },
    "kernelspec": {
      "name": "python3",
      "display_name": "Python 3"
    },
    "language_info": {
      "name": "python"
    }
  },
  "cells": [
    {
      "cell_type": "markdown",
      "metadata": {
        "id": "view-in-github",
        "colab_type": "text"
      },
      "source": [
        "<a href=\"https://colab.research.google.com/github/mirasmitty/Project_Zillow/blob/molleigh/Project_Zillow_Logistic_Regression.ipynb\" target=\"_parent\"><img src=\"https://colab.research.google.com/assets/colab-badge.svg\" alt=\"Open In Colab\"/></a>"
      ]
    },
    {
      "cell_type": "code",
      "execution_count": null,
      "metadata": {
        "id": "zrP0hiEYHiii"
      },
      "outputs": [],
      "source": [
        "# Import the modules\n",
        "import numpy as np\n",
        "import pandas as pd\n",
        "from pathlib import Path\n",
        "from sklearn.metrics import balanced_accuracy_score, confusion_matrix, classification_report\n"
      ]
    },
    {
      "cell_type": "code",
      "source": [
        "import matplotlib.pyplot as plt\n",
        "import seaborn as sns\n",
        "pd.set_option('display.max_rows', None)"
      ],
      "metadata": {
        "id": "7fZdZn1BHvKh"
      },
      "execution_count": null,
      "outputs": []
    },
    {
      "cell_type": "code",
      "source": [
        "# Read the CSV file from the Resources folder into a Pandas DataFrame\n",
        "# Loading data\n",
        "df = pd.read_csv(\"https://raw.githubusercontent.com/mirasmitty/Project_Zillow/main/Resources/Zillow_data_Detroit.csv\")\n",
        "df['Week of pending'] = pd.to_datetime(df['Week of pending'])\n",
        "df['Week of pending'] = df['Week of pending'].values.astype(\"int64\")\n",
        "\n",
        "# Review the DataFrame\n",
        "df.head()"
      ],
      "metadata": {
        "id": "JpdCUOKTH3ie"
      },
      "execution_count": null,
      "outputs": []
    },
    {
      "cell_type": "code",
      "source": [
        "# Separate the data into labels and features\n",
        "# Separate the y variable, the labels\n",
        "y = df[\"Mean price reduction percentage\"]\n",
        "\n",
        "# Separate the X variable, the features\n",
        "x = df.drop(columns=['Mean price reduction percentage'])\n"
      ],
      "metadata": {
        "id": "D1Rc7verJSub"
      },
      "execution_count": null,
      "outputs": []
    },
    {
      "cell_type": "code",
      "source": [
        "# Review the y variable Series\n",
        "y[:5]\n"
      ],
      "metadata": {
        "id": "1xpFwbdKLwcH"
      },
      "execution_count": null,
      "outputs": []
    },
    {
      "cell_type": "code",
      "source": [
        "# Review the X variable DataFrame\n",
        "x[:5]"
      ],
      "metadata": {
        "id": "nDzx6xzBMGf1"
      },
      "execution_count": null,
      "outputs": []
    }
  ]
}